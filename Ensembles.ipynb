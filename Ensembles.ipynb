{
 "cells": [
  {
   "cell_type": "code",
   "execution_count": 59,
   "id": "3e9a5b8e-f467-4048-b4a7-d45dcc3d53ce",
   "metadata": {},
   "outputs": [],
   "source": [
    "import numpy as np\n",
    "import pandas as pd\n",
    "from sklearn.svm import SVC\n",
    "from sklearn.ensemble import RandomForestClassifier\n",
    "from tensorflow.keras.models import Sequential\n",
    "from tensorflow.keras.layers import Input, Dense, BatchNormalization, Dropout\n",
    "from tensorflow.keras.regularizers import l2\n",
    "from tensorflow.keras.callbacks import ReduceLROnPlateau\n",
    "from tensorflow.keras.optimizers import Adam\n",
    "\n",
    "def reshape_4(array):\n",
    "    return array.reshape(-1, 4)\n",
    "\n",
    "train_predR = reshape_4(pd.read_csv('VpredR.csv').values)\n",
    "train_predF = reshape_4(pd.read_csv('VpredF.csv').values)\n",
    "train_LSTMpredR = reshape_4(pd.read_csv('LSTM_VpredR.csv').values)\n",
    "train_LSTMpredF = reshape_4(pd.read_csv('LSTM_VpredF.csv').values)\n",
    "\n",
    "test_predR = reshape_4(pd.read_csv('predR.csv').values)\n",
    "test_predF = reshape_4(pd.read_csv('predF.csv').values)\n",
    "test_LSTMpredR = reshape_4(pd.read_csv('LSTM_predR.csv').values)\n",
    "test_LSTMpredF = reshape_4(pd.read_csv('LSTM_predF.csv').values)\n"
   ]
  },
  {
   "cell_type": "code",
   "execution_count": 60,
   "id": "9246621f-9f1f-4f7c-8ac8-003bd9239e26",
   "metadata": {},
   "outputs": [],
   "source": [
    "X_train = np.vstack((np.hstack((train_predR, train_LSTMpredR)),  \n",
    "                          np.hstack((train_predF, train_LSTMpredF))))  \n",
    "\n",
    "X_test = np.vstack((np.hstack((test_predR, test_LSTMpredR)),  \n",
    "                         np.hstack((test_predF, test_LSTMpredF))))  \n",
    "\n",
    "y_train = np.vstack((np.ones((train_predR.shape[0], 1)),  \n",
    "                          np.zeros((train_predF.shape[0], 1))))  \n",
    "\n",
    "y_test = np.vstack((np.ones((test_predR.shape[0], 1)),  \n",
    "                         np.zeros((test_predF.shape[0], 1))))  "
   ]
  },
  {
   "cell_type": "code",
   "execution_count": 61,
   "id": "22144527-113f-4ae0-be34-ee90c61c1bfc",
   "metadata": {},
   "outputs": [
    {
     "name": "stdout",
     "output_type": "stream",
     "text": [
      "Точність SVM: 74.08%\n"
     ]
    }
   ],
   "source": [
    "svm_model = SVC(probability=True)\n",
    "svm_model.fit(X_train, y_train.ravel())\n",
    "svm_acc = svm_model.score(X_test_meta, y_test_meta)\n",
    "\n",
    "print(f\"Точність SVM: {svm_acc * 100:.2f}%\")"
   ]
  },
  {
   "cell_type": "code",
   "execution_count": 62,
   "id": "2507cb78-aa5d-4271-a00c-3438f125b3b1",
   "metadata": {},
   "outputs": [
    {
     "name": "stdout",
     "output_type": "stream",
     "text": [
      "Точність Random Forest: 73.35%\n"
     ]
    }
   ],
   "source": [
    "rf_model = RandomForestClassifier(n_estimators=10, max_depth=8, random_state=42)\n",
    "rf_model.fit(X_train_meta, y_train_meta.ravel())\n",
    "rf_acc = rf_model.score(X_test_meta, y_test_meta)\n",
    "\n",
    "print(f\"Точність Random Forest: {rf_acc * 100:.2f}%\")"
   ]
  },
  {
   "cell_type": "code",
   "execution_count": 63,
   "id": "00edb34b-7683-4be4-803a-8b35cb26c19a",
   "metadata": {},
   "outputs": [
    {
     "name": "stdout",
     "output_type": "stream",
     "text": [
      "Epoch 1/10\n",
      "\u001b[1m6/6\u001b[0m \u001b[32m━━━━━━━━━━━━━━━━━━━━\u001b[0m\u001b[37m\u001b[0m \u001b[1m1s\u001b[0m 22ms/step - accuracy: 0.6544 - loss: 0.6983 - val_accuracy: 0.5074 - val_loss: 0.7160\n",
      "Epoch 2/10\n",
      "\u001b[1m6/6\u001b[0m \u001b[32m━━━━━━━━━━━━━━━━━━━━\u001b[0m\u001b[37m\u001b[0m \u001b[1m0s\u001b[0m 4ms/step - accuracy: 0.9353 - loss: 0.3347 - val_accuracy: 0.5294 - val_loss: 0.6930\n",
      "Epoch 3/10\n",
      "\u001b[1m6/6\u001b[0m \u001b[32m━━━━━━━━━━━━━━━━━━━━\u001b[0m\u001b[37m\u001b[0m \u001b[1m0s\u001b[0m 4ms/step - accuracy: 0.9725 - loss: 0.1955 - val_accuracy: 0.5846 - val_loss: 0.6707\n",
      "Epoch 4/10\n",
      "\u001b[1m6/6\u001b[0m \u001b[32m━━━━━━━━━━━━━━━━━━━━\u001b[0m\u001b[37m\u001b[0m \u001b[1m0s\u001b[0m 4ms/step - accuracy: 0.9803 - loss: 0.1367 - val_accuracy: 0.6489 - val_loss: 0.6505\n",
      "Epoch 5/10\n",
      "\u001b[1m6/6\u001b[0m \u001b[32m━━━━━━━━━━━━━━━━━━━━\u001b[0m\u001b[37m\u001b[0m \u001b[1m0s\u001b[0m 4ms/step - accuracy: 0.9858 - loss: 0.1151 - val_accuracy: 0.7169 - val_loss: 0.6319\n",
      "Epoch 6/10\n",
      "\u001b[1m6/6\u001b[0m \u001b[32m━━━━━━━━━━━━━━━━━━━━\u001b[0m\u001b[37m\u001b[0m \u001b[1m0s\u001b[0m 4ms/step - accuracy: 0.9877 - loss: 0.1033 - val_accuracy: 0.7849 - val_loss: 0.6153\n",
      "Epoch 7/10\n",
      "\u001b[1m6/6\u001b[0m \u001b[32m━━━━━━━━━━━━━━━━━━━━\u001b[0m\u001b[37m\u001b[0m \u001b[1m0s\u001b[0m 4ms/step - accuracy: 0.9924 - loss: 0.0921 - val_accuracy: 0.8336 - val_loss: 0.6004\n",
      "Epoch 8/10\n",
      "\u001b[1m6/6\u001b[0m \u001b[32m━━━━━━━━━━━━━━━━━━━━\u001b[0m\u001b[37m\u001b[0m \u001b[1m0s\u001b[0m 5ms/step - accuracy: 0.9944 - loss: 0.0858 - val_accuracy: 0.8621 - val_loss: 0.5872\n",
      "Epoch 9/10\n",
      "\u001b[1m6/6\u001b[0m \u001b[32m━━━━━━━━━━━━━━━━━━━━\u001b[0m\u001b[37m\u001b[0m \u001b[1m0s\u001b[0m 4ms/step - accuracy: 0.9928 - loss: 0.0859 - val_accuracy: 0.8778 - val_loss: 0.5748\n",
      "Epoch 10/10\n",
      "\u001b[1m6/6\u001b[0m \u001b[32m━━━━━━━━━━━━━━━━━━━━\u001b[0m\u001b[37m\u001b[0m \u001b[1m0s\u001b[0m 5ms/step - accuracy: 0.9944 - loss: 0.0810 - val_accuracy: 0.8888 - val_loss: 0.5632\n",
      "Точність Покращеної MLP: 88.88%\n"
     ]
    }
   ],
   "source": [
    "mlp_model = Sequential([\n",
    "    Input(shape=(X_train_meta.shape[1],)),\n",
    "    Dense(32, activation='relu', kernel_regularizer=l2(0.001)),\n",
    "    BatchNormalization(),\n",
    "    \n",
    "    Dense(64, activation='relu', kernel_regularizer=l2(0.001)),\n",
    "    BatchNormalization(),\n",
    "\n",
    "    Dense(64, activation='relu'),\n",
    "    BatchNormalization(),\n",
    "    \n",
    "    Dense(1, activation='sigmoid')\n",
    "])\n",
    "optimizer = Adam(learning_rate=0.0005)\n",
    "mlp_model.compile(loss='binary_crossentropy', optimizer=optimizer, metrics=['accuracy'])\n",
    "\n",
    "mlp_model.fit(X_train_meta, y_train_meta, \n",
    "              epochs=10, batch_size=512, \n",
    "              validation_data=(X_test_meta, y_test_meta),\n",
    "              verbose=1)\n",
    "\n",
    "\n",
    "mlp_accuracy = mlp_model.evaluate(X_test_meta, y_test_meta, verbose=0)[1]\n",
    "\n",
    "print(f\"Точність Покращеної MLP: {mlp_accuracy * 100:.2f}%\")"
   ]
  },
  {
   "cell_type": "code",
   "execution_count": null,
   "id": "6d8cda1f-959b-48ac-91e3-583c5876314b",
   "metadata": {},
   "outputs": [],
   "source": []
  }
 ],
 "metadata": {
  "kernelspec": {
   "display_name": "Python 3 (ipykernel)",
   "language": "python",
   "name": "python3"
  },
  "language_info": {
   "codemirror_mode": {
    "name": "ipython",
    "version": 3
   },
   "file_extension": ".py",
   "mimetype": "text/x-python",
   "name": "python",
   "nbconvert_exporter": "python",
   "pygments_lexer": "ipython3",
   "version": "3.11.8"
  }
 },
 "nbformat": 4,
 "nbformat_minor": 5
}
