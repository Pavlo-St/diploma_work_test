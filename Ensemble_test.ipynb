{
 "cells": [
  {
   "cell_type": "code",
   "execution_count": 1,
   "id": "ebe50ca4-1c3c-4514-98bf-4f8f20cd4a39",
   "metadata": {},
   "outputs": [],
   "source": [
    "import numpy as np\n",
    "import pandas as pd\n",
    "from sklearn.svm import SVC\n",
    "from sklearn.ensemble import RandomForestClassifier\n",
    "from tensorflow.keras.models import Sequential\n",
    "from tensorflow.keras.layers import Input, Dense, BatchNormalization, Dropout\n",
    "from tensorflow.keras.regularizers import l2\n",
    "from tensorflow.keras.callbacks import ReduceLROnPlateau\n",
    "from tensorflow.keras.optimizers import Adam\n",
    "from sklearn.model_selection import train_test_split\n",
    "\n",
    "def reshape_to_4(array):\n",
    "    return array.reshape(-1, 4)\n",
    "\n",
    "train_predR = reshape_to_4(pd.read_csv('X_ensembleRSpred.csv').values)\n",
    "train_predF = reshape_to_4(pd.read_csv('X_ensembleFSpred.csv').values)\n",
    "train_LSTMpredR = reshape_to_4(pd.read_csv('X_ensembleRMpred.csv').values)\n",
    "train_LSTMpredF = reshape_to_4(pd.read_csv('X_ensembleFMpred.csv').values)\n",
    "\n",
    "val_predR = reshape_to_4(pd.read_csv('vrealMpred.csv').values)\n",
    "val_predF = reshape_to_4(pd.read_csv('vfakeSpred.csv').values)\n",
    "val_LSTMpredR = reshape_to_4(pd.read_csv('vrealMpred.csv').values)\n",
    "val_LSTMpredF = reshape_to_4(pd.read_csv('vfakeMpred.csv').values)\n",
    "\n",
    "test_predR = reshape_to_4(pd.read_csv('trealSpred.csv').values)\n",
    "test_predF = reshape_to_4(pd.read_csv('tfakeSpred.csv').values)\n",
    "test_LSTMpredR = reshape_to_4(pd.read_csv('trealMpred.csv').values)\n",
    "test_LSTMpredF = reshape_to_4(pd.read_csv('tfakeMpred.csv').values)\n"
   ]
  },
  {
   "cell_type": "code",
   "execution_count": 2,
   "id": "be411b1a-de9f-44cf-a894-ceb51feae244",
   "metadata": {},
   "outputs": [],
   "source": [
    "X_train = np.vstack((np.hstack((train_predR, train_LSTMpredR)),  \n",
    "                          np.hstack((train_predF, train_LSTMpredF))))  \n",
    "\n",
    "X_val = np.vstack((np.hstack((val_predR, val_LSTMpredR)),  \n",
    "                         np.hstack((val_predF, val_LSTMpredF))))  \n",
    "\n",
    "X_test = np.vstack((np.hstack((test_predR, test_LSTMpredR)),  \n",
    "                         np.hstack((test_predF, test_LSTMpredF))))  \n",
    "\n",
    "\n",
    "y_train = np.vstack((np.ones((train_predR.shape[0], 1)),  \n",
    "                          np.zeros((train_predF.shape[0], 1))))  \n",
    "\n",
    "y_val = np.vstack((np.ones((val_predR.shape[0], 1)),  \n",
    "                          np.zeros((val_predF.shape[0], 1))))  \n",
    "\n",
    "y_test = np.vstack((np.ones((test_predR.shape[0], 1)),  \n",
    "                         np.zeros((test_predF.shape[0], 1))))  "
   ]
  },
  {
   "cell_type": "code",
   "execution_count": 3,
   "id": "2009356f-314d-45e9-84b4-f56a7ca7e8e2",
   "metadata": {},
   "outputs": [],
   "source": [
    "# from tensorflow.keras.callbacks import Callback\n",
    "\n",
    "# class ValidationCallback(Callback):\n",
    "#     def __init__(self, val_data, val_labels):\n",
    "#         self.val_data = val_data\n",
    "#         self.val_labels = val_labels\n",
    "\n",
    "#     def on_epoch_end(self, epoch, logs=None):\n",
    "#         val_loss, val_acc = self.model.evaluate(self.val_data, self.val_labels, verbose=0)\n",
    "#         print(f\"\\nEpoch {epoch+1}: Test Loss: {val_loss:.4f}, Test Acc: {val_acc:.4f}\")"
   ]
  },
  {
   "cell_type": "code",
   "execution_count": 12,
   "id": "9389abe5-f6ab-4ecf-97c9-fb71f06e6131",
   "metadata": {},
   "outputs": [
    {
     "name": "stdout",
     "output_type": "stream",
     "text": [
      "Epoch 1/15\n",
      "\u001b[1m7/7\u001b[0m \u001b[32m━━━━━━━━━━━━━━━━━━━━\u001b[0m\u001b[37m\u001b[0m \u001b[1m1s\u001b[0m 19ms/step - accuracy: 0.8487 - loss: 0.4705 - val_accuracy: 0.5514 - val_loss: 0.6977\n",
      "Epoch 2/15\n",
      "\u001b[1m7/7\u001b[0m \u001b[32m━━━━━━━━━━━━━━━━━━━━\u001b[0m\u001b[37m\u001b[0m \u001b[1m0s\u001b[0m 4ms/step - accuracy: 0.9508 - loss: 0.2263 - val_accuracy: 0.6397 - val_loss: 0.6658\n",
      "Epoch 3/15\n",
      "\u001b[1m7/7\u001b[0m \u001b[32m━━━━━━━━━━━━━━━━━━━━\u001b[0m\u001b[37m\u001b[0m \u001b[1m0s\u001b[0m 4ms/step - accuracy: 0.9737 - loss: 0.1452 - val_accuracy: 0.7048 - val_loss: 0.6359\n",
      "Epoch 4/15\n",
      "\u001b[1m7/7\u001b[0m \u001b[32m━━━━━━━━━━━━━━━━━━━━\u001b[0m\u001b[37m\u001b[0m \u001b[1m0s\u001b[0m 4ms/step - accuracy: 0.9840 - loss: 0.1221 - val_accuracy: 0.7649 - val_loss: 0.6079\n",
      "Epoch 5/15\n",
      "\u001b[1m7/7\u001b[0m \u001b[32m━━━━━━━━━━━━━━━━━━━━\u001b[0m\u001b[37m\u001b[0m \u001b[1m0s\u001b[0m 4ms/step - accuracy: 0.9872 - loss: 0.1047 - val_accuracy: 0.8089 - val_loss: 0.5824\n",
      "Epoch 6/15\n",
      "\u001b[1m7/7\u001b[0m \u001b[32m━━━━━━━━━━━━━━━━━━━━\u001b[0m\u001b[37m\u001b[0m \u001b[1m0s\u001b[0m 4ms/step - accuracy: 0.9910 - loss: 0.0962 - val_accuracy: 0.8327 - val_loss: 0.5580\n",
      "Epoch 7/15\n",
      "\u001b[1m7/7\u001b[0m \u001b[32m━━━━━━━━━━━━━━━━━━━━\u001b[0m\u001b[37m\u001b[0m \u001b[1m0s\u001b[0m 4ms/step - accuracy: 0.9885 - loss: 0.0950 - val_accuracy: 0.8513 - val_loss: 0.5348\n",
      "Epoch 8/15\n",
      "\u001b[1m7/7\u001b[0m \u001b[32m━━━━━━━━━━━━━━━━━━━━\u001b[0m\u001b[37m\u001b[0m \u001b[1m0s\u001b[0m 4ms/step - accuracy: 0.9924 - loss: 0.0856 - val_accuracy: 0.8696 - val_loss: 0.5125\n",
      "Epoch 9/15\n",
      "\u001b[1m7/7\u001b[0m \u001b[32m━━━━━━━━━━━━━━━━━━━━\u001b[0m\u001b[37m\u001b[0m \u001b[1m0s\u001b[0m 4ms/step - accuracy: 0.9949 - loss: 0.0790 - val_accuracy: 0.8844 - val_loss: 0.4909\n",
      "Epoch 10/15\n",
      "\u001b[1m7/7\u001b[0m \u001b[32m━━━━━━━━━━━━━━━━━━━━\u001b[0m\u001b[37m\u001b[0m \u001b[1m0s\u001b[0m 4ms/step - accuracy: 0.9909 - loss: 0.0851 - val_accuracy: 0.8981 - val_loss: 0.4691\n",
      "Epoch 11/15\n",
      "\u001b[1m7/7\u001b[0m \u001b[32m━━━━━━━━━━━━━━━━━━━━\u001b[0m\u001b[37m\u001b[0m \u001b[1m0s\u001b[0m 4ms/step - accuracy: 0.9940 - loss: 0.0795 - val_accuracy: 0.9040 - val_loss: 0.4488\n",
      "Epoch 12/15\n",
      "\u001b[1m7/7\u001b[0m \u001b[32m━━━━━━━━━━━━━━━━━━━━\u001b[0m\u001b[37m\u001b[0m \u001b[1m0s\u001b[0m 4ms/step - accuracy: 0.9946 - loss: 0.0754 - val_accuracy: 0.9123 - val_loss: 0.4282\n",
      "Epoch 13/15\n",
      "\u001b[1m7/7\u001b[0m \u001b[32m━━━━━━━━━━━━━━━━━━━━\u001b[0m\u001b[37m\u001b[0m \u001b[1m0s\u001b[0m 4ms/step - accuracy: 0.9937 - loss: 0.0789 - val_accuracy: 0.9201 - val_loss: 0.4064\n",
      "Epoch 14/15\n",
      "\u001b[1m7/7\u001b[0m \u001b[32m━━━━━━━━━━━━━━━━━━━━\u001b[0m\u001b[37m\u001b[0m \u001b[1m0s\u001b[0m 4ms/step - accuracy: 0.9928 - loss: 0.0789 - val_accuracy: 0.9266 - val_loss: 0.3873\n",
      "Epoch 15/15\n",
      "\u001b[1m7/7\u001b[0m \u001b[32m━━━━━━━━━━━━━━━━━━━━\u001b[0m\u001b[37m\u001b[0m \u001b[1m0s\u001b[0m 4ms/step - accuracy: 0.9947 - loss: 0.0755 - val_accuracy: 0.9325 - val_loss: 0.3678\n",
      "Точність Покращеної MLP: 87.22%\n"
     ]
    }
   ],
   "source": [
    "mlp_model = Sequential([\n",
    "    Input(shape=(X_train.shape[1],)),\n",
    "    Dense(32, activation='relu', kernel_regularizer=l2(0.001)),\n",
    "    BatchNormalization(),\n",
    "    \n",
    "    Dense(64, activation='relu', kernel_regularizer=l2(0.001)),\n",
    "    BatchNormalization(),\n",
    "\n",
    "    Dense(64, activation='relu'),\n",
    "    BatchNormalization(),\n",
    "    \n",
    "    Dense(1, activation='sigmoid')\n",
    "])\n",
    "optimizer = Adam(learning_rate=0.0005)\n",
    "\n",
    "mlp_model.compile(loss='binary_crossentropy', optimizer=optimizer, metrics=['accuracy'])\n",
    "\n",
    "validation_callback = ValidationCallback(X_test, y_test)\n",
    "\n",
    "# mlp_model.fit(X_train, y_train, \n",
    "#               epochs=20, batch_size=512, \n",
    "#               validation_data=(X_val, y_val),\n",
    "#               verbose=1,\n",
    "#               callbacks=[validation_callback])\n",
    "\n",
    "mlp_model.fit(X_train, y_train, \n",
    "              epochs=15, batch_size=512, \n",
    "              validation_data=(X_val, y_val),\n",
    "              verbose=1)\n",
    "\n",
    "\n",
    "mlp_accuracy = mlp_model.evaluate(X_test, y_test, verbose=0)[1]\n",
    "\n",
    "print(f\"Точність Покращеної MLP: {mlp_accuracy * 100:.2f}%\")"
   ]
  },
  {
   "cell_type": "code",
   "execution_count": 13,
   "id": "0f95f222-9108-41be-94e4-ccfdfb149ffa",
   "metadata": {},
   "outputs": [
    {
     "name": "stdout",
     "output_type": "stream",
     "text": [
      "Точність SVM на валідаційних: 94.45%\n",
      "Точність SVM на тестових: 77.02%\n"
     ]
    }
   ],
   "source": [
    "svm_model = SVC(probability=True)\n",
    "svm_model.fit(X_train, y_train.ravel())\n",
    "\n",
    "svm_acc1 = svm_model.score(X_val, y_val)\n",
    "svm_acc2 = svm_model.score(X_test, y_test)\n",
    "print(f\"Точність SVM на валідаційних: {svm_acc1 * 100:.2f}%\")\n",
    "print(f\"Точність SVM на тестових: {svm_acc2 * 100:.2f}%\")"
   ]
  },
  {
   "cell_type": "code",
   "execution_count": 15,
   "id": "30e3bf61-0d22-4e56-87cb-6f71268af394",
   "metadata": {},
   "outputs": [
    {
     "name": "stdout",
     "output_type": "stream",
     "text": [
      "Точність Random Forest на валідаційних: 94.39%\n",
      "Точність Random Forest на тестових: 73.90%\n"
     ]
    }
   ],
   "source": [
    "rf_model = RandomForestClassifier(n_estimators=10, max_depth=8, random_state=42)\n",
    "rf_model.fit(X_train, y_train.ravel())\n",
    "\n",
    "rf_acc1 = rf_model.score(X_val, y_val)\n",
    "rf_acc2 = rf_model.score(X_test, y_test)\n",
    "print(f\"Точність Random Forest на валідаційних: {rf_acc1 * 100:.2f}%\")\n",
    "print(f\"Точність Random Forest на тестових: {rf_acc2 * 100:.2f}%\")"
   ]
  },
  {
   "cell_type": "code",
   "execution_count": null,
   "id": "b4a2c383-0aba-4e07-8a79-6f40bca10832",
   "metadata": {},
   "outputs": [],
   "source": []
  }
 ],
 "metadata": {
  "kernelspec": {
   "display_name": "Python 3 (ipykernel)",
   "language": "python",
   "name": "python3"
  },
  "language_info": {
   "codemirror_mode": {
    "name": "ipython",
    "version": 3
   },
   "file_extension": ".py",
   "mimetype": "text/x-python",
   "name": "python",
   "nbconvert_exporter": "python",
   "pygments_lexer": "ipython3",
   "version": "3.11.8"
  }
 },
 "nbformat": 4,
 "nbformat_minor": 5
}
