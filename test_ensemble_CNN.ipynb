{
 "cells": [
  {
   "cell_type": "code",
   "execution_count": 4,
   "id": "8f903846-e403-4599-a8c2-5e385bf12a35",
   "metadata": {},
   "outputs": [],
   "source": [
    "import os\n",
    "import librosa\n",
    "import librosa.display\n",
    "import matplotlib.pyplot as plt\n",
    "import numpy as np\n",
    "\n",
    "real_path = r\"C:\\Users\\pavli\\for-2seconds\\training\\real\"\n",
    "fake_path = r\"C:\\Users\\pavli\\for-2seconds\\training\\fake\"\n",
    "real = []\n",
    "fake = []\n",
    "\n",
    "vreal_path = r\"C:\\Users\\pavli\\for-2seconds\\mixed\\real\"\n",
    "vfake_path = r\"C:\\Users\\pavli\\for-2seconds\\mixed\\fake\"\n",
    "vreal = []\n",
    "vfake = []\n",
    "\n",
    "treal_path = r\"C:\\Users\\pavli\\for-2seconds\\testing\\real\"\n",
    "tfake_path = r\"C:\\Users\\pavli\\for-2seconds\\testing\\fake\"\n",
    "treal = []\n",
    "tfake = []\n"
   ]
  },
  {
   "cell_type": "code",
   "execution_count": 5,
   "id": "5adece00-8067-45d4-a863-14b1a63769c7",
   "metadata": {},
   "outputs": [],
   "source": [
    "def get_spectrogram(folder_path):\n",
    "    specs = []    \n",
    "    for filename in os.listdir(folder_path):\n",
    "        audio, sr = librosa.load(os.path.join(folder_path, filename), sr=None)\n",
    "        audio_parts = np.array_split(audio, 4)\n",
    "        for part in audio_parts:\n",
    "            spectrogram = abs(librosa.stft(y=part))\n",
    "            spectrogram = librosa.amplitude_to_db(spectrogram, ref=np.max)\n",
    "            specs.append(spectrogram)\n",
    "    return specs"
   ]
  },
  {
   "cell_type": "code",
   "execution_count": 6,
   "id": "674d807e-c04e-48e2-9e3e-7d2bd0bcacf7",
   "metadata": {},
   "outputs": [],
   "source": [
    "realS = get_spectrogram(real_path)\n",
    "fakeS = get_spectrogram(fake_path)\n",
    "\n",
    "vrealS = get_spectrogram(vreal_path)\n",
    "vfakeS = get_spectrogram(vfake_path)\n",
    "\n",
    "trealS = get_spectrogram(treal_path)\n",
    "tfakeS = get_spectrogram(tfake_path)"
   ]
  },
  {
   "cell_type": "code",
   "execution_count": 25,
   "id": "653faeb9-aaef-4e70-b617-e68afb959260",
   "metadata": {},
   "outputs": [
    {
     "data": {
      "text/plain": [
       "27912"
      ]
     },
     "execution_count": 25,
     "metadata": {},
     "output_type": "execute_result"
    }
   ],
   "source": [
    "len(realS)"
   ]
  },
  {
   "cell_type": "code",
   "execution_count": 36,
   "id": "b487d716-b2a8-4bbd-9661-fc70a0cc8e59",
   "metadata": {},
   "outputs": [
    {
     "name": "stdout",
     "output_type": "stream",
     "text": [
      "Розмір першої частини: 20936\n",
      "Розмір другої частини: 6976\n"
     ]
    }
   ],
   "source": [
    "import numpy as np\n",
    "\n",
    "def split_of_4(array, ratio=0.25):\n",
    "    N = len(array)\n",
    "    split_size = int(ratio * N) \n",
    "    split_size = split_size - (split_size % 4)  \n",
    "\n",
    "    part1 = array[split_size:]  \n",
    "    part2 = array[:split_size]  \n",
    "\n",
    "    return part1, part2\n",
    "\n",
    "X_trainR, X_ensembleR = split_of_4(realS)\n",
    "X_trainF, X_ensembleF = split_of_4(fakeS)\n",
    "\n",
    "\n",
    "print(\"Розмір першої частини:\", len(X_trainR))  \n",
    "print(\"Розмір другої частини:\", len(X_ensembleR))  \n"
   ]
  },
  {
   "cell_type": "code",
   "execution_count": 55,
   "id": "217805fc-773d-40fc-bbf5-cbd5fc86f02d",
   "metadata": {},
   "outputs": [
    {
     "name": "stdout",
     "output_type": "stream",
     "text": [
      "Розмірність тренувальних даних: (41872, 1025, 16)\n",
      "Розмірність тестових даних: (12912, 1025, 16)\n",
      "Розмірність міток тренувальних даних: (41872,)\n",
      "Розмірність міток тестових даних: (12912,)\n"
     ]
    }
   ],
   "source": [
    "from sklearn.model_selection import train_test_split\n",
    "\n",
    "real_labels = np.zeros(len(X_trainR))\n",
    "fake_labels = np.ones(len(X_trainF))\n",
    "\n",
    "vreal_labels = np.zeros(len(vrealS))\n",
    "vfake_labels = np.ones(len(vfakeS))\n",
    "\n",
    "X_train = np.concatenate((X_trainR, X_trainF), axis=0)\n",
    "y_train = np.concatenate((real_labels, fake_labels), axis=0)\n",
    "\n",
    "X_val = np.concatenate((vrealS, vfakeS), axis=0)\n",
    "y_val = np.concatenate((vreal_labels, vfake_labels), axis=0)\n",
    "\n",
    "# Перемішуємо тренувальні дані\n",
    "shuffle_index_train = np.random.permutation(len(X_train))\n",
    "X_train_shuffled = X_train[shuffle_index_train]\n",
    "y_train_shuffled = y_train[shuffle_index_train]\n",
    "\n",
    "# Перемішуємо валідаційні дані\n",
    "shuffle_index_val = np.random.permutation(len(X_val))\n",
    "X_val_shuffled = X_val[shuffle_index_val]\n",
    "y_val_shuffled = y_val[shuffle_index_val]\n",
    "\n",
    "\n",
    "# Виведення розмірності тренувальних та тестових даних\n",
    "\n",
    "print(\"Розмірність тренувальних даних:\", X_train_shuffled.shape)\n",
    "print(\"Розмірність тестових даних:\", X_val_shuffled.shape)\n",
    "print(\"Розмірність міток тренувальних даних:\", y_train_shuffled.shape)\n",
    "print(\"Розмірність міток тестових даних:\", y_val_shuffled.shape)\n",
    "\n",
    "X_train = X_train_shuffled[..., np.newaxis]\n",
    "X_test = X_val_shuffled[..., np.newaxis]"
   ]
  },
  {
   "cell_type": "code",
   "execution_count": 57,
   "id": "31042f7d-8db1-4be4-8ee0-0e9c46bb20dc",
   "metadata": {
    "scrolled": true
   },
   "outputs": [
    {
     "name": "stdout",
     "output_type": "stream",
     "text": [
      "Epoch 1/10\n",
      "\u001b[1m1309/1309\u001b[0m \u001b[32m━━━━━━━━━━━━━━━━━━━━\u001b[0m\u001b[37m\u001b[0m \u001b[1m35s\u001b[0m 26ms/step - accuracy: 0.6265 - loss: 2.9581 - val_accuracy: 0.8052 - val_loss: 0.4320\n",
      "Epoch 2/10\n",
      "\u001b[1m1309/1309\u001b[0m \u001b[32m━━━━━━━━━━━━━━━━━━━━\u001b[0m\u001b[37m\u001b[0m \u001b[1m35s\u001b[0m 27ms/step - accuracy: 0.8075 - loss: 0.4195 - val_accuracy: 0.8595 - val_loss: 0.3124\n",
      "Epoch 3/10\n",
      "\u001b[1m1309/1309\u001b[0m \u001b[32m━━━━━━━━━━━━━━━━━━━━\u001b[0m\u001b[37m\u001b[0m \u001b[1m33s\u001b[0m 25ms/step - accuracy: 0.8866 - loss: 0.2675 - val_accuracy: 0.8990 - val_loss: 0.2316\n",
      "Epoch 4/10\n",
      "\u001b[1m1309/1309\u001b[0m \u001b[32m━━━━━━━━━━━━━━━━━━━━\u001b[0m\u001b[37m\u001b[0m \u001b[1m34s\u001b[0m 26ms/step - accuracy: 0.9169 - loss: 0.2001 - val_accuracy: 0.8704 - val_loss: 0.3004\n",
      "Epoch 5/10\n",
      "\u001b[1m1309/1309\u001b[0m \u001b[32m━━━━━━━━━━━━━━━━━━━━\u001b[0m\u001b[37m\u001b[0m \u001b[1m33s\u001b[0m 26ms/step - accuracy: 0.9282 - loss: 0.1820 - val_accuracy: 0.9057 - val_loss: 0.2220\n",
      "Epoch 6/10\n",
      "\u001b[1m1309/1309\u001b[0m \u001b[32m━━━━━━━━━━━━━━━━━━━━\u001b[0m\u001b[37m\u001b[0m \u001b[1m32s\u001b[0m 25ms/step - accuracy: 0.9374 - loss: 0.1588 - val_accuracy: 0.9200 - val_loss: 0.1963\n",
      "Epoch 7/10\n",
      "\u001b[1m1309/1309\u001b[0m \u001b[32m━━━━━━━━━━━━━━━━━━━━\u001b[0m\u001b[37m\u001b[0m \u001b[1m35s\u001b[0m 27ms/step - accuracy: 0.9477 - loss: 0.1401 - val_accuracy: 0.9074 - val_loss: 0.2510\n",
      "Epoch 8/10\n",
      "\u001b[1m1309/1309\u001b[0m \u001b[32m━━━━━━━━━━━━━━━━━━━━\u001b[0m\u001b[37m\u001b[0m \u001b[1m34s\u001b[0m 26ms/step - accuracy: 0.9567 - loss: 0.1114 - val_accuracy: 0.8868 - val_loss: 0.3209\n",
      "Epoch 9/10\n",
      "\u001b[1m1309/1309\u001b[0m \u001b[32m━━━━━━━━━━━━━━━━━━━━\u001b[0m\u001b[37m\u001b[0m \u001b[1m34s\u001b[0m 26ms/step - accuracy: 0.9569 - loss: 0.1111 - val_accuracy: 0.9208 - val_loss: 0.2150\n",
      "Epoch 10/10\n",
      "\u001b[1m1309/1309\u001b[0m \u001b[32m━━━━━━━━━━━━━━━━━━━━\u001b[0m\u001b[37m\u001b[0m \u001b[1m35s\u001b[0m 27ms/step - accuracy: 0.9617 - loss: 0.1060 - val_accuracy: 0.9322 - val_loss: 0.1907\n"
     ]
    }
   ],
   "source": [
    "from tensorflow.keras.models import Sequential\n",
    "from tensorflow.keras.layers import Input, Conv2D, MaxPooling2D, Flatten, Dense, Dropout\n",
    "\n",
    "model = Sequential([\n",
    "    Conv2D(16, (3, 3), activation='relu', input_shape=(X_train.shape[1:])),\n",
    "    MaxPooling2D((2, 2)),\n",
    "    Conv2D(32, (3, 3), activation='relu'),\n",
    "    MaxPooling2D((2, 2)),\n",
    "    Flatten(),\n",
    "    Dense(128, activation='relu'),\n",
    "    Dropout(0.5),\n",
    "    Dense(1, activation='sigmoid')\n",
    "])\n",
    "\n",
    "# Компіляція моделі\n",
    "model.compile(optimizer='adam', loss='binary_crossentropy', metrics=['accuracy'])\n",
    "\n",
    "# Навчання моделі\n",
    "history = model.fit(X_train, y_train_shuffled, epochs=10, batch_size=32, validation_data=(X_test, y_val_shuffled))\n"
   ]
  },
  {
   "cell_type": "code",
   "execution_count": 59,
   "id": "770e7beb-7f69-4d17-97b9-5111c6eeb346",
   "metadata": {},
   "outputs": [
    {
     "name": "stdout",
     "output_type": "stream",
     "text": [
      "\u001b[1m218/218\u001b[0m \u001b[32m━━━━━━━━━━━━━━━━━━━━\u001b[0m\u001b[37m\u001b[0m \u001b[1m2s\u001b[0m 9ms/step\n",
      "\u001b[1m218/218\u001b[0m \u001b[32m━━━━━━━━━━━━━━━━━━━━\u001b[0m\u001b[37m\u001b[0m \u001b[1m2s\u001b[0m 9ms/step\n",
      "\u001b[1m202/202\u001b[0m \u001b[32m━━━━━━━━━━━━━━━━━━━━\u001b[0m\u001b[37m\u001b[0m \u001b[1m2s\u001b[0m 9ms/step\n",
      "\u001b[1m202/202\u001b[0m \u001b[32m━━━━━━━━━━━━━━━━━━━━\u001b[0m\u001b[37m\u001b[0m \u001b[1m2s\u001b[0m 9ms/step\n",
      "\u001b[1m68/68\u001b[0m \u001b[32m━━━━━━━━━━━━━━━━━━━━\u001b[0m\u001b[37m\u001b[0m \u001b[1m1s\u001b[0m 9ms/step\n",
      "\u001b[1m68/68\u001b[0m \u001b[32m━━━━━━━━━━━━━━━━━━━━\u001b[0m\u001b[37m\u001b[0m \u001b[1m1s\u001b[0m 9ms/step\n"
     ]
    }
   ],
   "source": [
    "X_ensembleRSpred = model.predict(np.array(X_ensembleR))\n",
    "X_ensembleFSpred = model.predict(np.array(X_ensembleF))\n",
    "\n",
    "vrealSpred = model.predict(np.array(vrealS))\n",
    "vfakeSpred = model.predict(np.array(vfakeS))\n",
    "\n",
    "trealSpred = model.predict(np.array(trealS))\n",
    "tfakeSpred = model.predict(np.array(tfakeS))"
   ]
  },
  {
   "cell_type": "code",
   "execution_count": 61,
   "id": "7bd207f9-f8db-483b-85ca-616c42ce83f3",
   "metadata": {},
   "outputs": [],
   "source": [
    "import pandas as pd\n",
    "pd.DataFrame(X_ensembleRSpred).to_csv('X_ensembleRSpred.csv', index=False)\n",
    "pd.DataFrame(X_ensembleFSpred).to_csv('X_ensembleFSpred.csv', index=False)\n",
    "pd.DataFrame(vrealSpred).to_csv('vrealSpred.csv', index=False)\n",
    "pd.DataFrame(vfakeSpred).to_csv('vfakeSpred.csv', index=False)\n",
    "pd.DataFrame(trealSpred).to_csv('trealSpred.csv', index=False)\n",
    "pd.DataFrame(tfakeSpred).to_csv('tfakeSpred.csv', index=False)"
   ]
  },
  {
   "cell_type": "code",
   "execution_count": 16,
   "id": "b273d1d9-2755-43c1-9a57-40e91b773cf5",
   "metadata": {},
   "outputs": [],
   "source": [
    "import numpy as np\n",
    "import pandas as pd\n",
    "from sklearn.svm import SVC\n",
    "from sklearn.ensemble import RandomForestClassifier\n",
    "from tensorflow.keras.models import Sequential\n",
    "from tensorflow.keras.layers import Input, Dense, BatchNormalization, Dropout\n",
    "from tensorflow.keras.regularizers import l2\n",
    "from tensorflow.keras.callbacks import ReduceLROnPlateau\n",
    "from tensorflow.keras.optimizers import Adam\n",
    "from sklearn.model_selection import train_test_split\n",
    "\n",
    "def reshape_to_blocks_of_4(array):\n",
    "    return array.reshape(-1, 4)\n",
    "\n",
    "train_predR = reshape_to_blocks_of_4(pd.read_csv('VpredR.csv').values)\n",
    "train_predF = reshape_to_blocks_of_4(pd.read_csv('VpredF.csv').values)\n",
    "train_LSTMpredR = reshape_to_blocks_of_4(pd.read_csv('LSTM_VpredR.csv').values)\n",
    "train_LSTMpredF = reshape_to_blocks_of_4(pd.read_csv('LSTM_VpredF.csv').values)\n",
    "\n",
    "test_predR = reshape_to_blocks_of_4(pd.read_csv('predR.csv').values)\n",
    "test_predF = reshape_to_blocks_of_4(pd.read_csv('predF.csv').values)\n",
    "test_LSTMpredR = reshape_to_blocks_of_4(pd.read_csv('LSTM_predR.csv').values)\n",
    "test_LSTMpredF = reshape_to_blocks_of_4(pd.read_csv('LSTM_predF.csv').values)\n"
   ]
  },
  {
   "cell_type": "code",
   "execution_count": 17,
   "id": "6ca50e63-9197-4127-a99b-189cb5ea8450",
   "metadata": {},
   "outputs": [],
   "source": [
    "X_train = np.vstack((np.hstack((train_predR, train_LSTMpredR)),  \n",
    "                          np.hstack((train_predF, train_LSTMpredF))))  \n",
    "\n",
    "X_test = np.vstack((np.hstack((test_predR, test_LSTMpredR)),  \n",
    "                         np.hstack((test_predF, test_LSTMpredF))))  \n",
    "\n",
    "y_train = np.vstack((np.ones((train_predR.shape[0], 1)),  \n",
    "                          np.zeros((train_predF.shape[0], 1))))  \n",
    "\n",
    "y_test = np.vstack((np.ones((test_predR.shape[0], 1)),  \n",
    "                         np.zeros((test_predF.shape[0], 1))))  "
   ]
  },
  {
   "cell_type": "code",
   "execution_count": 18,
   "id": "3a2aa139-5afc-424f-b4b6-91b6f5dbbf0f",
   "metadata": {},
   "outputs": [],
   "source": [
    "X_train, X_valid, y_train, y_valid = train_test_split(X_train, y_train, test_size=0.30, random_state=42)"
   ]
  },
  {
   "cell_type": "code",
   "execution_count": 23,
   "id": "261eb2f9-a780-46c9-8592-9997ab0c7156",
   "metadata": {},
   "outputs": [
    {
     "name": "stdout",
     "output_type": "stream",
     "text": [
      "Epoch 1/10\n",
      "\u001b[1m4/4\u001b[0m \u001b[32m━━━━━━━━━━━━━━━━━━━━\u001b[0m\u001b[37m\u001b[0m \u001b[1m1s\u001b[0m 36ms/step - accuracy: 0.7935 - loss: 0.5970 - val_accuracy: 0.6073 - val_loss: 0.6998\n",
      "Epoch 2/10\n",
      "\u001b[1m4/4\u001b[0m \u001b[32m━━━━━━━━━━━━━━━━━━━━\u001b[0m\u001b[37m\u001b[0m \u001b[1m0s\u001b[0m 6ms/step - accuracy: 0.8824 - loss: 0.3718 - val_accuracy: 0.7441 - val_loss: 0.6791\n",
      "Epoch 3/10\n",
      "\u001b[1m4/4\u001b[0m \u001b[32m━━━━━━━━━━━━━━━━━━━━\u001b[0m\u001b[37m\u001b[0m \u001b[1m0s\u001b[0m 7ms/step - accuracy: 0.9365 - loss: 0.2430 - val_accuracy: 0.8196 - val_loss: 0.6593\n",
      "Epoch 4/10\n",
      "\u001b[1m4/4\u001b[0m \u001b[32m━━━━━━━━━━━━━━━━━━━━\u001b[0m\u001b[37m\u001b[0m \u001b[1m0s\u001b[0m 6ms/step - accuracy: 0.9659 - loss: 0.1935 - val_accuracy: 0.8809 - val_loss: 0.6402\n",
      "Epoch 5/10\n",
      "\u001b[1m4/4\u001b[0m \u001b[32m━━━━━━━━━━━━━━━━━━━━\u001b[0m\u001b[37m\u001b[0m \u001b[1m0s\u001b[0m 6ms/step - accuracy: 0.9744 - loss: 0.1529 - val_accuracy: 0.9127 - val_loss: 0.6221\n",
      "Epoch 6/10\n",
      "\u001b[1m4/4\u001b[0m \u001b[32m━━━━━━━━━━━━━━━━━━━━\u001b[0m\u001b[37m\u001b[0m \u001b[1m0s\u001b[0m 7ms/step - accuracy: 0.9787 - loss: 0.1337 - val_accuracy: 0.9387 - val_loss: 0.6052\n",
      "Epoch 7/10\n",
      "\u001b[1m4/4\u001b[0m \u001b[32m━━━━━━━━━━━━━━━━━━━━\u001b[0m\u001b[37m\u001b[0m \u001b[1m0s\u001b[0m 6ms/step - accuracy: 0.9836 - loss: 0.1191 - val_accuracy: 0.9517 - val_loss: 0.5890\n",
      "Epoch 8/10\n",
      "\u001b[1m4/4\u001b[0m \u001b[32m━━━━━━━━━━━━━━━━━━━━\u001b[0m\u001b[37m\u001b[0m \u001b[1m0s\u001b[0m 7ms/step - accuracy: 0.9857 - loss: 0.1096 - val_accuracy: 0.9611 - val_loss: 0.5737\n",
      "Epoch 9/10\n",
      "\u001b[1m4/4\u001b[0m \u001b[32m━━━━━━━━━━━━━━━━━━━━\u001b[0m\u001b[37m\u001b[0m \u001b[1m0s\u001b[0m 6ms/step - accuracy: 0.9887 - loss: 0.1039 - val_accuracy: 0.9670 - val_loss: 0.5592\n",
      "Epoch 10/10\n",
      "\u001b[1m4/4\u001b[0m \u001b[32m━━━━━━━━━━━━━━━━━━━━\u001b[0m\u001b[37m\u001b[0m \u001b[1m0s\u001b[0m 6ms/step - accuracy: 0.9889 - loss: 0.0976 - val_accuracy: 0.9729 - val_loss: 0.5451\n",
      "Точність Покращеної MLP: 97.29%\n"
     ]
    }
   ],
   "source": [
    "mlp_model = Sequential([\n",
    "    Input(shape=(X_train.shape[1],)),\n",
    "    Dense(32, activation='relu', kernel_regularizer=l2(0.001)),\n",
    "    BatchNormalization(),\n",
    "    \n",
    "    Dense(64, activation='relu', kernel_regularizer=l2(0.001)),\n",
    "    BatchNormalization(),\n",
    "\n",
    "    Dense(64, activation='relu'),\n",
    "    BatchNormalization(),\n",
    "    \n",
    "    Dense(1, activation='sigmoid')\n",
    "])\n",
    "optimizer = Adam(learning_rate=0.0005)\n",
    "mlp_model.compile(loss='binary_crossentropy', optimizer=optimizer, metrics=['accuracy'])\n",
    "\n",
    "mlp_model.fit(X_train, y_train, \n",
    "              epochs=10, batch_size=512, \n",
    "              validation_data=(X_valid, y_),\n",
    "              verbose=1)\n",
    "\n",
    "\n",
    "mlp_accuracy = mlp_model.evaluate(X_valid, y_valid, verbose=0)[1]\n",
    "\n",
    "print(f\"Точність Покращеної MLP: {mlp_accuracy * 100:.2f}%\")"
   ]
  },
  {
   "cell_type": "code",
   "execution_count": null,
   "id": "193120c4-1b50-4e6f-b8c7-c802ba286ef4",
   "metadata": {},
   "outputs": [],
   "source": []
  }
 ],
 "metadata": {
  "kernelspec": {
   "display_name": "Python 3 (ipykernel)",
   "language": "python",
   "name": "python3"
  },
  "language_info": {
   "codemirror_mode": {
    "name": "ipython",
    "version": 3
   },
   "file_extension": ".py",
   "mimetype": "text/x-python",
   "name": "python",
   "nbconvert_exporter": "python",
   "pygments_lexer": "ipython3",
   "version": "3.11.8"
  }
 },
 "nbformat": 4,
 "nbformat_minor": 5
}
